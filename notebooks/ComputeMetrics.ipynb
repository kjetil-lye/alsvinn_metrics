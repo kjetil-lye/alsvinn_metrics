{
 "cells": [
  {
   "cell_type": "code",
   "execution_count": 1,
   "metadata": {},
   "outputs": [
    {
     "name": "stdout",
     "output_type": "stream",
     "text": [
      "{'git_commit': '4addac37980ea21d98bf3df884eef35f54b187a5', 'git_repo_modified': 'False', 'git_branch': 'master', 'git_remote_url': 'git@github.com:kjetil-lye/alsvinn_metrics.git', 'git_short_commit': '4add'}\n"
     ]
    }
   ],
   "source": [
    "import matplotlib.pyplot as plt\n",
    "%matplotlib inline\n",
    "import sys\n",
    "import os\n",
    "import csv\n",
    "sys.path.append('../python')\n",
    "import plot_info\n",
    "import numpy as np\n",
    "import json\n",
    "\n",
    "\n",
    "\n",
    "print(plot_info.get_git_metadata())\n"
   ]
  },
  {
   "cell_type": "code",
   "execution_count": 2,
   "metadata": {},
   "outputs": [],
   "source": [
    "\n",
    "data_folder = '../data/runs_2019-02-22/'\n",
    "\n",
    "basename_csv = os.path.join(data_folder, 'nx_{nx}/nx_{nx}.csv')\n",
    "basename_report_profile = os.path.join(data_folder, 'nx_{nx}/alsuqcli_kh_report.json')\n",
    "basename_report_large = os.path.join(data_folder, 'nx_large_{nx}/alsuqcli_kh_report.json')\n",
    "\n",
    "# Nvidia P100 (https://www.nvidia.com/en-us/data-center/tesla-p100/)\n",
    "max_bandwidth_gpu_gbs = 732\n",
    "max_flops_gpu_gfs = 4.7*1000\n"
   ]
  },
  {
   "cell_type": "code",
   "execution_count": 3,
   "metadata": {},
   "outputs": [],
   "source": [
    "def get_total_flops_and_memory(filename):\n",
    "    with open(filename) as f:\n",
    "        reader = csv.DictReader(f)\n",
    "        flops = 0\n",
    "        memory_read = 0\n",
    "        memory_written = 0\n",
    "        for row in reader:\n",
    "             duration = float(row['Avg. Duration(ns)'])\n",
    "             invocations = int(row['Invocations'])\n",
    "             bandwidth_write = float(row['Device Memory Write Throughput(bytes/sec)'])\n",
    "             bandwidth_read = float(row['Device Memory Read Throughput(bytes/sec)'])\n",
    "             flops_dp_current = int(row['Floating Point Operations(Double Precision)'])\n",
    "           \n",
    "             flops += invocations * flops_dp_current\n",
    "             \n",
    "             memory_read += invocations*duration*bandwidth_read/10**9\n",
    "             memory_written += invocations*duration*bandwidth_write/10**9\n",
    "        return flops, memory_read, memory_written\n",
    "            "
   ]
  },
  {
   "cell_type": "code",
   "execution_count": 4,
   "metadata": {},
   "outputs": [],
   "source": [
    "def get_runtime(report_filename):\n",
    "    with open(report_filename) as f:\n",
    "        json_content = json.load(f)\n",
    "        # reported in milliseconds\n",
    "        return float(json_content['report']['wallTime'])/1000\n",
    "    \n",
    "def get_number_of_timesteps(report_filename):\n",
    "        with open(report_filename) as f:\n",
    "            json_content = json.load(f)\n",
    "        \n",
    "            \n",
    "            return int(json_content['report']['timesteps'])"
   ]
  },
  {
   "cell_type": "code",
   "execution_count": 5,
   "metadata": {},
   "outputs": [],
   "source": [
    "def get_flops_and_bandwidth_of_real_run(real_run_report, profile_run_report, profile_run_csv):\n",
    "    flops, memory_read, memory_written = get_total_flops_and_memory(profile_run_csv)\n",
    "    \n",
    "    timesteps_profile = get_number_of_timesteps(profile_run_report)\n",
    "    \n",
    "    timesteps_real = get_number_of_timesteps(real_run_report)\n",
    "    \n",
    "    time_real = get_runtime(real_run_report)\n",
    "    \n",
    "    flops_real = ((flops*timesteps_real)/(timesteps_profile*time_real))\n",
    "    \n",
    "    memory_real = (((memory_read + memory_written)*timesteps_real)/(timesteps_profile*time_real))\n",
    "    \n",
    "    return flops_real, memory_real"
   ]
  },
  {
   "cell_type": "code",
   "execution_count": null,
   "metadata": {
    "scrolled": false
   },
   "outputs": [
    {
     "name": "stdout",
     "output_type": "stream",
     "text": [
      "\n",
      "\n"
     ]
    },
    {
     "data": {
      "image/png": "[encoded data removed]",
      "text/plain": [
       "<Figure size 432x288 with 1 Axes>"
      ]
     },
     "metadata": {
      "needs_background": "light"
     },
     "output_type": "display_data"
    },
    {
     "name": "stdout",
     "output_type": "stream",
     "text": [
      "\n",
      "\n"
     ]
    }
   ],
   "source": [
    "\n",
    "nxs = 2**np.arange(4,9)\n",
    "\n",
    "bandwidths_per_nx = []\n",
    "flops_per_nx= []\n",
    "\n",
    "for nx in nxs:\n",
    "    csv_filename = basename_csv.format(nx=nx)\n",
    "    report_profile = basename_report_profile.format(nx=nx)\n",
    "    report_large = basename_report_large.format(nx=nx)\n",
    "    \n",
    "    flops, memory = get_flops_and_bandwidth_of_real_run(report_large, report_profile, csv_filename)\n",
    "    \n",
    "    bandwidths_per_nx.append(memory)\n",
    "    flops_per_nx.append(flops)\n",
    "bandwidths_per_nx = np.array(bandwidths_per_nx)\n",
    "flops_per_nx = np.array(flops_per_nx)\n",
    "\n",
    "plt.loglog(nxs**3, bandwidths_per_nx/10**9, '-o')\n",
    "plt.plot([nxs[0]**3, nxs[-1]**3], [max_bandwidth_gpu_gbs, max_bandwidth_gpu_gbs], '--', label=\"Theoretical max\")\n",
    "plt.legend()\n",
    "\n",
    "plt.xlabel(\"Number of cells\")\n",
    "plt.ylabel(\"Achieved bandwidth (GB/s)\")\n",
    "plot_info.showAndSave(\"bandwidth\")\n",
    "\n",
    "\n",
    "plt.semilogx(nxs**3, bandwidths_per_nx/10**9/max_bandwidth_gpu_gbs, '-o')\n",
    "\n",
    "plt.grid(True)\n",
    "\n",
    "plt.xlabel(\"Number of cells\")\n",
    "plt.ylabel(\"Achieved bandwidth (% of max)\")\n",
    "plot_info.set_percentage_ticks(plt.gca().yaxis)\n",
    "plot_info.showAndSave(\"bandwidth_percent\")\n",
    "\n",
    "\n",
    "\n",
    "plt.loglog(nxs**3, flops_per_nx/10**9, '-o')\n",
    "plt.plot([nxs[0]**3, nxs[-1]**3], [max_flops_gpu_gfs, max_flops_gpu_gfs], '--', label=\"Theoretical max\")\n",
    "plt.legend()\n",
    "\n",
    "plt.xlabel(\"Number of cells\")\n",
    "plt.ylabel(\"Achieved Gflops (GF/s)\")\n",
    "plot_info.showAndSave(\"flops\")\n",
    "\n",
    "\n",
    "plt.semilogx(nxs**3, flops_per_nx/10**9/max_flops_gpu_gfs, '-o')\n",
    "\n",
    "plt.grid(True)\n",
    "\n",
    "plt.xlabel(\"Number of cells\")\n",
    "plt.ylabel(\"Achieved Gflops (% of max)\")\n",
    "plot_info.set_percentage_ticks(plt.gca().yaxis)\n",
    "plot_info.showAndSave(\"flops_percent\")"
   ]
  },
  {
   "cell_type": "code",
   "execution_count": null,
   "metadata": {},
   "outputs": [],
   "source": [
    "print(bandwidths_per_nx)\n",
    "print(flops_per_nx)"
   ]
  },
  {
   "cell_type": "code",
   "execution_count": null,
   "metadata": {},
   "outputs": [],
   "source": [
    "print(bandwidths_per_nx/10**9)\n",
    "print(flops_per_nx/10**9)"
   ]
  },
  {
   "cell_type": "code",
   "execution_count": null,
   "metadata": {},
   "outputs": [],
   "source": []
  }
 ],
 "metadata": {
  "kernelspec": {
   "display_name": "Python 3",
   "language": "python",
   "name": "python3"
  },
  "language_info": {
   "codemirror_mode": {
    "name": "ipython",
    "version": 3
   },
   "file_extension": ".py",
   "mimetype": "text/x-python",
   "name": "python",
   "nbconvert_exporter": "python",
   "pygments_lexer": "ipython3",
   "version": "3.7.2"
  }
 },
 "nbformat": 4,
 "nbformat_minor": 2
}
